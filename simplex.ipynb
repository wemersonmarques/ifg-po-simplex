{
 "cells": [
  {
   "cell_type": "markdown",
   "metadata": {},
   "source": [
    "### Importar bibliotecas\n",
    "\n",
    "Pandas: tratar dados de forma tabular semelhante ao Excel (as pd é apelido)\n",
    "\n",
    "Collections: biblioteca para trabalhar com dicionáros (dicts) de forma ordenada\n",
    "\n",
    "Numpy: biblioteca para operações matemáticas"
   ]
  },
  {
   "cell_type": "code",
   "execution_count": 1,
   "metadata": {},
   "outputs": [],
   "source": [
    "import pandas as pd\n",
    "import collections\n",
    "import numpy as np"
   ]
  },
  {
   "cell_type": "markdown",
   "metadata": {},
   "source": [
    "### Definir função objetivo"
   ]
  },
  {
   "cell_type": "code",
   "execution_count": 2,
   "metadata": {},
   "outputs": [
    {
     "name": "stdout",
     "output_type": "stream",
     "text": [
      "odict_keys(['x1', 'x2'])\n",
      "OrderedDict([('x1', 10), ('x2', 12)])\n"
     ]
    }
   ],
   "source": [
    "z = collections.OrderedDict({'x1':10,'x2':12})\n",
    "lista_variaveis = z.keys()\n",
    "print(lista_variaveis)\n",
    "print(z)"
   ]
  },
  {
   "cell_type": "markdown",
   "metadata": {},
   "source": [
    "### Definir lista de restrições"
   ]
  },
  {
   "cell_type": "code",
   "execution_count": 147,
   "metadata": {},
   "outputs": [
    {
     "name": "stdout",
     "output_type": "stream",
     "text": [
      "[OrderedDict([('x1', 1), ('x2', 1), ('op', '<='), ('b', 100)]), OrderedDict([('x1', 1), ('x2', 3), ('op', '<='), ('b', 270)])]\n"
     ]
    }
   ],
   "source": [
    "restricoes = [collections.OrderedDict({'x1':1,'x2':1,'op':'<=','b':100}),\n",
    "        collections.OrderedDict({'x1':1,'x2':3,'op':'<=','b':270})]\n",
    "    \n",
    "print(restricoes)"
   ]
  },
  {
   "cell_type": "markdown",
   "metadata": {},
   "source": [
    "### Cria a tabela inserindo a linha objetivo"
   ]
  },
  {
   "cell_type": "code",
   "execution_count": 148,
   "metadata": {},
   "outputs": [
    {
     "data": {
      "text/html": [
       "<div>\n",
       "<style scoped>\n",
       "    .dataframe tbody tr th:only-of-type {\n",
       "        vertical-align: middle;\n",
       "    }\n",
       "\n",
       "    .dataframe tbody tr th {\n",
       "        vertical-align: top;\n",
       "    }\n",
       "\n",
       "    .dataframe thead th {\n",
       "        text-align: right;\n",
       "    }\n",
       "</style>\n",
       "<table border=\"1\" class=\"dataframe\">\n",
       "  <thead>\n",
       "    <tr style=\"text-align: right;\">\n",
       "      <th></th>\n",
       "      <th>z</th>\n",
       "      <th>x1</th>\n",
       "      <th>x2</th>\n",
       "      <th>b</th>\n",
       "    </tr>\n",
       "  </thead>\n",
       "  <tbody>\n",
       "    <tr>\n",
       "      <th>0</th>\n",
       "      <td>1</td>\n",
       "      <td>-10</td>\n",
       "      <td>-12</td>\n",
       "      <td>0</td>\n",
       "    </tr>\n",
       "  </tbody>\n",
       "</table>\n",
       "</div>"
      ],
      "text/plain": [
       "   z  x1  x2  b\n",
       "0  1 -10 -12  0"
      ]
     },
     "execution_count": 148,
     "metadata": {},
     "output_type": "execute_result"
    }
   ],
   "source": [
    "# Valor de Z na função objetivo sempre é 1\n",
    "linha_obj = collections.OrderedDict({'z': [1]})\n",
    "\n",
    "for chave, valor in z.items():\n",
    "    linha_obj[chave] = [valor*(-1)]\n",
    "\n",
    "linha_obj['b'] = [0]\n",
    "linha_obj = pd.DataFrame.from_dict(linha_obj)\n",
    "linha_obj"
   ]
  },
  {
   "cell_type": "markdown",
   "metadata": {},
   "source": [
    "### Inserir as restrições na tabela"
   ]
  },
  {
   "cell_type": "code",
   "execution_count": 149,
   "metadata": {},
   "outputs": [],
   "source": [
    "# Cria a linha de cada restrição recebendo o dicionário da restrição e quantidade de folgas\n",
    "def construir_restricao(restricao, qtd_folgas) : \n",
    "    linha = collections.OrderedDict()\n",
    "    # Valor de Z nas restrições sempre é zero\n",
    "    linha['z'] = [0]\n",
    "    for chave, valor in restricao.items():\n",
    "        if chave != 'b':\n",
    "            linha[chave] = valor\n",
    "\n",
    "    if (linha['op'] == '<=') or (linha['op'] == '>='):\n",
    "        linha['xF' + str(qtd_folgas + 1)] = 1\n",
    "        qtd_folgas += 1\n",
    "        \n",
    "    del(linha['op'])\n",
    "    linha['b'] = restricao['b']\n",
    "    \n",
    "    return linha, qtd_folgas"
   ]
  },
  {
   "cell_type": "code",
   "execution_count": 150,
   "metadata": {},
   "outputs": [],
   "source": [
    "# Inserindo cada restrições, da lista restrições, na tabela criada anteriormente\n",
    "qtd_folgas = 0\n",
    "# Tratamento para 'resetar' a tabela em tempo de execução\n",
    "tabela = linha_obj.copy()\n",
    "for restricao in restricoes:\n",
    "    linha, qtd_folgas = construir_restricao(restricao, qtd_folgas)\n",
    "    linha = pd.DataFrame.from_dict(linha)\n",
    "    tabela = tabela.append(linha, ignore_index=True)\n",
    "tabela = tabela.fillna(0)"
   ]
  },
  {
   "cell_type": "code",
   "execution_count": 151,
   "metadata": {},
   "outputs": [
    {
     "data": {
      "text/html": [
       "<div>\n",
       "<style scoped>\n",
       "    .dataframe tbody tr th:only-of-type {\n",
       "        vertical-align: middle;\n",
       "    }\n",
       "\n",
       "    .dataframe tbody tr th {\n",
       "        vertical-align: top;\n",
       "    }\n",
       "\n",
       "    .dataframe thead th {\n",
       "        text-align: right;\n",
       "    }\n",
       "</style>\n",
       "<table border=\"1\" class=\"dataframe\">\n",
       "  <thead>\n",
       "    <tr style=\"text-align: right;\">\n",
       "      <th></th>\n",
       "      <th>b</th>\n",
       "      <th>x1</th>\n",
       "      <th>x2</th>\n",
       "      <th>xF1</th>\n",
       "      <th>xF2</th>\n",
       "      <th>z</th>\n",
       "    </tr>\n",
       "  </thead>\n",
       "  <tbody>\n",
       "    <tr>\n",
       "      <th>0</th>\n",
       "      <td>0</td>\n",
       "      <td>-10</td>\n",
       "      <td>-12</td>\n",
       "      <td>0.0</td>\n",
       "      <td>0.0</td>\n",
       "      <td>1</td>\n",
       "    </tr>\n",
       "    <tr>\n",
       "      <th>1</th>\n",
       "      <td>100</td>\n",
       "      <td>1</td>\n",
       "      <td>1</td>\n",
       "      <td>1.0</td>\n",
       "      <td>0.0</td>\n",
       "      <td>0</td>\n",
       "    </tr>\n",
       "    <tr>\n",
       "      <th>2</th>\n",
       "      <td>270</td>\n",
       "      <td>1</td>\n",
       "      <td>3</td>\n",
       "      <td>0.0</td>\n",
       "      <td>1.0</td>\n",
       "      <td>0</td>\n",
       "    </tr>\n",
       "  </tbody>\n",
       "</table>\n",
       "</div>"
      ],
      "text/plain": [
       "     b  x1  x2  xF1  xF2  z\n",
       "0    0 -10 -12  0.0  0.0  1\n",
       "1  100   1   1  1.0  0.0  0\n",
       "2  270   1   3  0.0  1.0  0"
      ]
     },
     "execution_count": 151,
     "metadata": {},
     "output_type": "execute_result"
    }
   ],
   "source": [
    "tabela"
   ]
  },
  {
   "cell_type": "markdown",
   "metadata": {},
   "source": [
    "### Função responsável por identificar a coluna que entra na função objetivo"
   ]
  },
  {
   "cell_type": "code",
   "execution_count": 152,
   "metadata": {},
   "outputs": [],
   "source": [
    "def identificar_coluna_entra(tabela):\n",
    "    primeira_linha = tabela.iloc[0]\n",
    "    lista_valores = []\n",
    "    \n",
    "    for chave, valor in primeira_linha.items():\n",
    "        if chave in lista_variaveis:\n",
    "            lista_valores.append(valor)\n",
    "            \n",
    "    menor_valor = np.min(lista_valores)\n",
    "    \n",
    "    for chave, valor in primeira_linha.items():\n",
    "        if chave in lista_variaveis:\n",
    "            if menor_valor == valor:\n",
    "                menor_chave = chave\n",
    "                break\n",
    "    \n",
    "    return menor_chave\n",
    "        "
   ]
  },
  {
   "cell_type": "markdown",
   "metadata": {},
   "source": [
    "### Função responsável por identificar a linha que sai"
   ]
  },
  {
   "cell_type": "code",
   "execution_count": 153,
   "metadata": {},
   "outputs": [],
   "source": [
    "def identificar_linha_sai(tabela, coluna_entra):\n",
    "    # Remover a primeira linha (função objetivo)\n",
    "    tabela = tabela.drop([0])\n",
    "    # Cria nova coluna do resultado da divisão entre 'b' e a coluna que entra (parâmetro)\n",
    "    tabela['b/coluna_entra'] = tabela['b'] / tabela[coluna_entra]\n",
    "    # Encontra o menor valor da coluna de divisão\n",
    "    menor_divisao = np.min(tabela['b/coluna_entra'])\n",
    "    # Identifica o primeiro índice da linha que possui o valor igual ao da menor divisão\n",
    "    indice = list(tabela.loc[tabela['b/coluna_entra'] == menor_divisao].index)[0]\n",
    "    \n",
    "    return indice"
   ]
  },
  {
   "cell_type": "code",
   "execution_count": 154,
   "metadata": {},
   "outputs": [],
   "source": [
    "coluna_entra = identificar_coluna_entra(tabela)\n",
    "\n",
    "linha_sai = identificar_linha_sai(tabela, coluna_entra)\n",
    "\n",
    "# Encontra o elemento pivô da interseção entre coluna que entra e linha que sai\n",
    "elemento_pivo = tabela[coluna_entra][linha_sai]"
   ]
  },
  {
   "cell_type": "code",
   "execution_count": 155,
   "metadata": {},
   "outputs": [],
   "source": [
    "def calcular_nova_linha_pivo(tabela, linha_sai, elemento_pivo) :\n",
    "    tabela_temp = tabela.copy()\n",
    "    tabela_temp.iloc[linha_sai] = tabela_temp.iloc[linha_sai]/elemento_pivo\n",
    "    return tabela_temp.iloc[linha_sai]"
   ]
  },
  {
   "cell_type": "code",
   "execution_count": 156,
   "metadata": {},
   "outputs": [
    {
     "name": "stdout",
     "output_type": "stream",
     "text": [
      "b      90.000000\n",
      "x1      0.333333\n",
      "x2      1.000000\n",
      "xF1     0.000000\n",
      "xF2     0.333333\n",
      "z       0.000000\n",
      "Name: 2, dtype: float64\n"
     ]
    }
   ],
   "source": [
    "nova_linha_pivo = calcular_nova_linha_pivo(tabela, linha_sai, elemento_pivo)\n",
    "print(nova_linha_pivo)"
   ]
  },
  {
   "cell_type": "markdown",
   "metadata": {},
   "source": [
    "### Função responsável por calcular a nova tabela a partir da tabela original e nova linha pivô"
   ]
  },
  {
   "cell_type": "code",
   "execution_count": 263,
   "metadata": {},
   "outputs": [],
   "source": [
    "def calcular_nova_tabela(tabela, nova_linha_pivo, coluna_entra, linha_sai):\n",
    "    # Remove a primeira linha da tabela original (função objetivo)\n",
    "    temp_tabela_sem_pivo = tabela.drop([linha_sai])\n",
    "    # Copia a tabela existente para uma nova e remove todos seus dados\n",
    "    nova_tabela = tabela.copy()\n",
    "    nova_tabela.drop(nova_tabela.index, inplace=True)\n",
    "    \n",
    "    ## PODE DAR PROBLEMA!!!!\n",
    "    for i in (0, len(temp_tabela_sem_pivo) -1):\n",
    "        # Calcula nova linha\n",
    "        nova_linha = nova_linha_pivo * (temp_tabela_sem_pivo[coluna_entra][i] * -1)\n",
    "        # Adiciona com a linha correspondente do indice da tabela original\n",
    "        nova_linha = nova_linha + temp_tabela_sem_pivo.iloc[i]\n",
    "        # Adiciona a nova linha calculada na nova tabela\n",
    "        nova_tabela = nova_tabela.append(nova_linha, ignore_index=True)\n",
    "    \n",
    "    # Adiciona a linha pivô na nova tabela\n",
    "    nova_tabela = nova_tabela.append(nova_linha_pivo)\n",
    "    \n",
    "    return nova_tabela"
   ]
  },
  {
   "cell_type": "code",
   "execution_count": 272,
   "metadata": {},
   "outputs": [],
   "source": [
    "nova_tabela = calcular_nova_tabela(tabela, nova_linha_pivo, coluna_entra, linha_sai)"
   ]
  },
  {
   "cell_type": "markdown",
   "metadata": {},
   "source": [
    "### Função responsável por analisar a primeira linha da nova tabela (função objetivo) e verificar se o resultado obtido é ótimo"
   ]
  },
  {
   "cell_type": "code",
   "execution_count": 286,
   "metadata": {},
   "outputs": [],
   "source": [
    "def is_resultado_otimo(nova_tabela):\n",
    "    menor_valor = min(nova_tabela.iloc[0])\n",
    "    if menor_valor < 0:\n",
    "        return False\n",
    "    return True"
   ]
  }
 ],
 "metadata": {
  "kernelspec": {
   "display_name": "Python 3",
   "language": "python",
   "name": "python3"
  },
  "language_info": {
   "codemirror_mode": {
    "name": "ipython",
    "version": 3
   },
   "file_extension": ".py",
   "mimetype": "text/x-python",
   "name": "python",
   "nbconvert_exporter": "python",
   "pygments_lexer": "ipython3",
   "version": "3.7.3"
  }
 },
 "nbformat": 4,
 "nbformat_minor": 2
}
