{
 "cells": [
  {
   "cell_type": "markdown",
   "metadata": {},
   "source": [
    "### Importar bibliotecas\n",
    "\n",
    "Pandas: tratar dados de forma tabular semelhante ao Excel (as pd é apelido)\n",
    "\n",
    "Collections: biblioteca para trabalhar com dicionáros (dicts) de forma ordenada\n",
    "\n",
    "Numpy: biblioteca para operações matemáticas"
   ]
  },
  {
   "cell_type": "code",
   "execution_count": 1,
   "metadata": {},
   "outputs": [],
   "source": [
    "import pandas as pd\n",
    "import collections\n",
    "import numpy as np"
   ]
  },
  {
   "cell_type": "markdown",
   "metadata": {},
   "source": [
    "### Definir função objetivo"
   ]
  },
  {
   "cell_type": "code",
   "execution_count": 2,
   "metadata": {},
   "outputs": [
    {
     "name": "stdout",
     "output_type": "stream",
     "text": [
      "odict_keys(['x1', 'x2'])\n",
      "OrderedDict([('x1', 10), ('x2', 12)])\n"
     ]
    }
   ],
   "source": [
    "z = collections.OrderedDict({'x1':10,'x2':12})\n",
    "lista_variaveis = z.keys()\n",
    "print(lista_variaveis)\n",
    "print(z)"
   ]
  },
  {
   "cell_type": "markdown",
   "metadata": {},
   "source": [
    "### Definir lista de restrições"
   ]
  },
  {
   "cell_type": "code",
   "execution_count": 3,
   "metadata": {},
   "outputs": [
    {
     "name": "stdout",
     "output_type": "stream",
     "text": [
      "[OrderedDict([('x1', 1), ('x2', 1), ('op', '<='), ('b', 100)]), OrderedDict([('x1', 1), ('x2', 3), ('op', '<='), ('b', 270)])]\n"
     ]
    }
   ],
   "source": [
    "restricoes = [collections.OrderedDict({'x1':1,'x2':1,'op':'<=','b':100}),\n",
    "        collections.OrderedDict({'x1':1,'x2':3,'op':'<=','b':270})]\n",
    "    \n",
    "print(restricoes)"
   ]
  },
  {
   "cell_type": "markdown",
   "metadata": {},
   "source": [
    "### Cria a tabela inserindo a linha objetivo"
   ]
  },
  {
   "cell_type": "code",
   "execution_count": 4,
   "metadata": {},
   "outputs": [
    {
     "data": {
      "text/html": [
       "<div>\n",
       "<style scoped>\n",
       "    .dataframe tbody tr th:only-of-type {\n",
       "        vertical-align: middle;\n",
       "    }\n",
       "\n",
       "    .dataframe tbody tr th {\n",
       "        vertical-align: top;\n",
       "    }\n",
       "\n",
       "    .dataframe thead th {\n",
       "        text-align: right;\n",
       "    }\n",
       "</style>\n",
       "<table border=\"1\" class=\"dataframe\">\n",
       "  <thead>\n",
       "    <tr style=\"text-align: right;\">\n",
       "      <th></th>\n",
       "      <th>z</th>\n",
       "      <th>x1</th>\n",
       "      <th>x2</th>\n",
       "      <th>b</th>\n",
       "    </tr>\n",
       "  </thead>\n",
       "  <tbody>\n",
       "    <tr>\n",
       "      <th>0</th>\n",
       "      <td>1</td>\n",
       "      <td>-10</td>\n",
       "      <td>-12</td>\n",
       "      <td>0</td>\n",
       "    </tr>\n",
       "  </tbody>\n",
       "</table>\n",
       "</div>"
      ],
      "text/plain": [
       "   z  x1  x2  b\n",
       "0  1 -10 -12  0"
      ]
     },
     "execution_count": 4,
     "metadata": {},
     "output_type": "execute_result"
    }
   ],
   "source": [
    "# Valor de Z na função objetivo sempre é 1\n",
    "linha_obj = collections.OrderedDict({'z': [1]})\n",
    "\n",
    "for chave, valor in z.items():\n",
    "    linha_obj[chave] = [valor*(-1)]\n",
    "\n",
    "linha_obj['b'] = [0]\n",
    "linha_obj = pd.DataFrame.from_dict(linha_obj)\n",
    "linha_obj"
   ]
  },
  {
   "cell_type": "markdown",
   "metadata": {},
   "source": [
    "### Inserir as restrições na tabela"
   ]
  },
  {
   "cell_type": "code",
   "execution_count": 5,
   "metadata": {},
   "outputs": [],
   "source": [
    "# Cria a linha de cada restrição recebendo o dicionário da restrição e quantidade de folgas\n",
    "def construir_restricao(restricao, qtd_folgas) : \n",
    "    linha = collections.OrderedDict()\n",
    "    # Valor de Z nas restrições sempre é zero\n",
    "    linha['z'] = [0]\n",
    "    for chave, valor in restricao.items():\n",
    "        if chave != 'b':\n",
    "            linha[chave] = valor\n",
    "\n",
    "    if (linha['op'] == '<=') or (linha['op'] == '>='):\n",
    "        linha['xF' + str(qtd_folgas + 1)] = 1\n",
    "        qtd_folgas += 1\n",
    "        \n",
    "    del(linha['op'])\n",
    "    linha['b'] = restricao['b']\n",
    "    \n",
    "    return linha, qtd_folgas"
   ]
  },
  {
   "cell_type": "code",
   "execution_count": 6,
   "metadata": {},
   "outputs": [
    {
     "name": "stderr",
     "output_type": "stream",
     "text": [
      "C:\\Users\\Wemerson Marques\\Anaconda3\\lib\\site-packages\\pandas\\core\\frame.py:6692: FutureWarning: Sorting because non-concatenation axis is not aligned. A future version\n",
      "of pandas will change to not sort by default.\n",
      "\n",
      "To accept the future behavior, pass 'sort=False'.\n",
      "\n",
      "To retain the current behavior and silence the warning, pass 'sort=True'.\n",
      "\n",
      "  sort=sort)\n"
     ]
    }
   ],
   "source": [
    "# Inserindo cada restrições, da lista restrições, na tabela criada anteriormente\n",
    "qtd_folgas = 0\n",
    "# Tratamento para 'resetar' a tabela em tempo de execução\n",
    "tabela = linha_obj.copy()\n",
    "for restricao in restricoes:\n",
    "    linha, qtd_folgas = construir_restricao(restricao, qtd_folgas)\n",
    "    linha = pd.DataFrame.from_dict(linha)\n",
    "    tabela = tabela.append(linha, ignore_index=True)\n",
    "tabela = tabela.fillna(0)"
   ]
  },
  {
   "cell_type": "code",
   "execution_count": 7,
   "metadata": {},
   "outputs": [
    {
     "data": {
      "text/html": [
       "<div>\n",
       "<style scoped>\n",
       "    .dataframe tbody tr th:only-of-type {\n",
       "        vertical-align: middle;\n",
       "    }\n",
       "\n",
       "    .dataframe tbody tr th {\n",
       "        vertical-align: top;\n",
       "    }\n",
       "\n",
       "    .dataframe thead th {\n",
       "        text-align: right;\n",
       "    }\n",
       "</style>\n",
       "<table border=\"1\" class=\"dataframe\">\n",
       "  <thead>\n",
       "    <tr style=\"text-align: right;\">\n",
       "      <th></th>\n",
       "      <th>b</th>\n",
       "      <th>x1</th>\n",
       "      <th>x2</th>\n",
       "      <th>xF1</th>\n",
       "      <th>xF2</th>\n",
       "      <th>z</th>\n",
       "    </tr>\n",
       "  </thead>\n",
       "  <tbody>\n",
       "    <tr>\n",
       "      <th>0</th>\n",
       "      <td>0</td>\n",
       "      <td>-10</td>\n",
       "      <td>-12</td>\n",
       "      <td>0.0</td>\n",
       "      <td>0.0</td>\n",
       "      <td>1</td>\n",
       "    </tr>\n",
       "    <tr>\n",
       "      <th>1</th>\n",
       "      <td>100</td>\n",
       "      <td>1</td>\n",
       "      <td>1</td>\n",
       "      <td>1.0</td>\n",
       "      <td>0.0</td>\n",
       "      <td>0</td>\n",
       "    </tr>\n",
       "    <tr>\n",
       "      <th>2</th>\n",
       "      <td>270</td>\n",
       "      <td>1</td>\n",
       "      <td>3</td>\n",
       "      <td>0.0</td>\n",
       "      <td>1.0</td>\n",
       "      <td>0</td>\n",
       "    </tr>\n",
       "  </tbody>\n",
       "</table>\n",
       "</div>"
      ],
      "text/plain": [
       "     b  x1  x2  xF1  xF2  z\n",
       "0    0 -10 -12  0.0  0.0  1\n",
       "1  100   1   1  1.0  0.0  0\n",
       "2  270   1   3  0.0  1.0  0"
      ]
     },
     "execution_count": 7,
     "metadata": {},
     "output_type": "execute_result"
    }
   ],
   "source": [
    "tabela"
   ]
  },
  {
   "cell_type": "markdown",
   "metadata": {},
   "source": [
    "### Função responsável por identificar a coluna que entra na função objetivo"
   ]
  },
  {
   "cell_type": "code",
   "execution_count": 8,
   "metadata": {},
   "outputs": [],
   "source": [
    "def identificar_coluna_entra(tabela):\n",
    "    primeira_linha = tabela.iloc[0]\n",
    "    lista_valores = []\n",
    "    \n",
    "    for chave, valor in primeira_linha.items():\n",
    "        if chave in lista_variaveis:\n",
    "            lista_valores.append(valor)\n",
    "            \n",
    "    menor_valor = np.min(lista_valores)\n",
    "    \n",
    "    for chave, valor in primeira_linha.items():\n",
    "        if chave in lista_variaveis:\n",
    "            if menor_valor == valor:\n",
    "                menor_chave = chave\n",
    "                break\n",
    "    \n",
    "    return menor_chave\n",
    "        "
   ]
  },
  {
   "cell_type": "markdown",
   "metadata": {},
   "source": [
    "### Função responsável por identificar a linha que sai"
   ]
  },
  {
   "cell_type": "code",
   "execution_count": 9,
   "metadata": {},
   "outputs": [],
   "source": [
    "def identificar_linha_sai(tabela, coluna_entra):\n",
    "    # Remover a primeira linha (função objetivo)\n",
    "    tabela = tabela.drop([0])\n",
    "    # Cria nova coluna do resultado da divisão entre 'b' e a coluna que entra (parâmetro)\n",
    "    tabela['b/coluna_entra'] = tabela['b'] / tabela[coluna_entra]\n",
    "    # Encontra o menor valor da coluna de divisão\n",
    "    menor_divisao = np.min(tabela['b/coluna_entra'])\n",
    "    # Identifica o primeiro índice da linha que possui o valor igual ao da menor divisão\n",
    "    indice = list(tabela.loc[tabela['b/coluna_entra'] == menor_divisao].index)[0]\n",
    "    \n",
    "    return indice"
   ]
  },
  {
   "cell_type": "code",
   "execution_count": 10,
   "metadata": {},
   "outputs": [],
   "source": [
    "def calcular_nova_linha_pivo(tabela, linha_sai, elemento_pivo) :\n",
    "    tabela_temp = tabela.copy()\n",
    "    tabela_temp.iloc[linha_sai] = tabela_temp.loc[linha_sai]/elemento_pivo\n",
    "    return tabela_temp.iloc[linha_sai]"
   ]
  },
  {
   "cell_type": "markdown",
   "metadata": {},
   "source": [
    "### Função responsável por calcular a nova tabela a partir da tabela original e nova linha pivô"
   ]
  },
  {
   "cell_type": "code",
   "execution_count": 67,
   "metadata": {},
   "outputs": [],
   "source": [
    "def calcular_nova_tabela(tabela, linha_pivo, coluna_entra, linha_sai):\n",
    "    # Remove a primeira linha da tabela original (função objetivo)\n",
    "    temp_tabela = tabela.copy()\n",
    "    temp_tabela = temp_tabela.drop([linha_sai])\n",
    "    # Copia a tabela existente para uma nova\n",
    "    nova_tabela = tabela.copy()\n",
    "    # Remove todas as linhas para manter a estrutura\n",
    "    nova_tabela.drop(nova_tabela.index, inplace=True)\n",
    "    \n",
    "    # Calcula novas linhas\n",
    "    for i in range(0, len(tabela)):\n",
    "        if not linha_pivo.name == i:\n",
    "            nova_linha = linha_pivo * (tabela[coluna_entra][i] * -1)\n",
    "            # Adiciona com a linha correspondente do indice da tabela original6\n",
    "            nova_linha = nova_linha + tabela.iloc[i]\n",
    "            # Adiciona a nova linha calculada na nova tabela\n",
    "            nova_tabela = nova_tabela.append(nova_linha, ignore_index=True)\n",
    "        else:\n",
    "            nova_tabela = nova_tabela.append(linha_pivo, ignore_index=True)\n",
    "    \n",
    "    # Adiciona a nova linha pivô na nova tabela\n",
    "    \n",
    "    return nova_tabela"
   ]
  },
  {
   "cell_type": "markdown",
   "metadata": {},
   "source": [
    "### Função responsável por analisar a primeira linha da nova tabela (função objetivo) e verificar se o resultado obtido é ótimo"
   ]
  },
  {
   "cell_type": "code",
   "execution_count": 68,
   "metadata": {},
   "outputs": [],
   "source": [
    "def is_resultado_otimo(nova_tabela):\n",
    "    menor_valor = min(nova_tabela.iloc[0])\n",
    "    if menor_valor < 0:\n",
    "        return False\n",
    "    return True"
   ]
  },
  {
   "cell_type": "code",
   "execution_count": 70,
   "metadata": {},
   "outputs": [
    {
     "name": "stdout",
     "output_type": "stream",
     "text": [
      "Nova tabela primeira execucao\n",
      "        b        x1   x2  xF1       xF2    z\n",
      "0  1080.0 -6.000000  0.0  0.0  4.000000  1.0\n",
      "1    10.0  0.666667  0.0  1.0 -0.333333  0.0\n",
      "2    90.0  0.333333  1.0  0.0  0.333333  0.0\n",
      "-------------- CALCULANDO NOVA TABELA 0 --------------\n",
      "        b   x1   x2  xF1  xF2    z\n",
      "0  1170.0  0.0  0.0  9.0  1.0  1.0\n",
      "1    15.0  1.0  0.0  1.5 -0.5  0.0\n",
      "2    85.0  0.0  1.0 -0.5  0.5  0.0\n",
      "-----------------------------\n",
      "Encontrei um resultado ótimo!\n",
      "b      1170.0\n",
      "x1        0.0\n",
      "x2        0.0\n",
      "xF1       9.0\n",
      "xF2       1.0\n",
      "z         1.0\n",
      "Name: 0, dtype: float64\n"
     ]
    }
   ],
   "source": [
    "coluna_entra = identificar_coluna_entra(tabela)\n",
    "\n",
    "linha_sai = identificar_linha_sai(tabela, coluna_entra)\n",
    "\n",
    "# Encontra o elemento pivô da interseção entre coluna que entra e linha que sai\n",
    "elemento_pivo = tabela[coluna_entra][linha_sai]\n",
    "linha_pivo = tabela.loc[linha_sai]\n",
    "nova_linha_pivo = calcular_nova_linha_pivo(tabela, linha_sai, elemento_pivo)\n",
    "nova_tabela = calcular_nova_tabela(tabela, nova_linha_pivo, coluna_entra, linha_sai)\n",
    "print('Nova tabela primeira execucao')\n",
    "print(nova_tabela)\n",
    "#\n",
    "\n",
    "i = 0\n",
    "\n",
    "while (not is_resultado_otimo(nova_tabela) and i < len(tabela)):\n",
    "    print('-------------- CALCULANDO NOVA TABELA ' + str(i) + ' --------------')\n",
    "    # Calcular nova linha\n",
    "    coluna_entra = identificar_coluna_entra(nova_tabela)\n",
    "    linha_sai = identificar_linha_sai(nova_tabela, coluna_entra)\n",
    "    # Encontra o elemento pivô da interseção entre coluna que entra e linha que sai\n",
    "    elemento_pivo = nova_tabela[coluna_entra][linha_sai]\n",
    "    nova_linha_pivo = calcular_nova_linha_pivo(nova_tabela, linha_sai, elemento_pivo)\n",
    "    \n",
    "    nova_tabela = calcular_nova_tabela(nova_tabela, nova_linha_pivo, coluna_entra, linha_sai)\n",
    "    i += 1;\n",
    "    print(nova_tabela)\n",
    "    print('-----------------------------')\n",
    "\n",
    "print('Encontrei um resultado ótimo!')\n",
    "print(str(nova_tabela.iloc[0]))\n",
    "    "
   ]
  },
  {
   "cell_type": "code",
   "execution_count": null,
   "metadata": {},
   "outputs": [],
   "source": []
  },
  {
   "cell_type": "code",
   "execution_count": null,
   "metadata": {},
   "outputs": [],
   "source": []
  },
  {
   "cell_type": "code",
   "execution_count": null,
   "metadata": {},
   "outputs": [],
   "source": []
  }
 ],
 "metadata": {
  "kernelspec": {
   "display_name": "Python 3",
   "language": "python",
   "name": "python3"
  },
  "language_info": {
   "codemirror_mode": {
    "name": "ipython",
    "version": 3
   },
   "file_extension": ".py",
   "mimetype": "text/x-python",
   "name": "python",
   "nbconvert_exporter": "python",
   "pygments_lexer": "ipython3",
   "version": "3.7.3"
  }
 },
 "nbformat": 4,
 "nbformat_minor": 2
}
